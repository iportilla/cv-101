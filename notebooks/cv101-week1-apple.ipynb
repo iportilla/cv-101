# 🍏 Week 1: Computer Vision on Apple Silicon (M1/M2/M3/M4)

In this notebook, you'll explore basic image processing tasks using OpenCV on Apple Silicon Macs.

With an M-series chip, you benefit from hardware-accelerated libraries like Metal and CoreML. We’ll keep our code compatible and optimized.

We'll:
- Load and visualize an image
- Convert to grayscale and blur
- Perform edge detection
- Optionally, export to CoreML model (bonus!)
