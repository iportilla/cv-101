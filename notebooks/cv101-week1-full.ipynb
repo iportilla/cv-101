{
 "cells": [
  {
   "cell_type": "markdown",
   "id": "e33a00f5",
   "metadata": {},
   "source": [
    "# 📘 Week 1: Computer Vision with OpenCV + NVIDIA GPU Acceleration\n",
    "\n",
    "In this notebook, you'll explore basic image processing tasks using OpenCV.\n",
    "\n",
    "If you have an NVIDIA GPU, OpenCV with CUDA can significantly speed up operations.\n",
    "\n",
    "We will:\n",
    "- Load and display an image\n",
    "- Convert to grayscale and blur\n",
    "- Detect edges\n",
    "- Use GPU if available\n",
    "- Wrap into a reusable function"
   ]
  },
  {
   "cell_type": "code",
   "execution_count": null,
   "id": "3930d473",
   "metadata": {},
   "outputs": [],
   "source": [
    "# Imports\n",
    "import cv2\n",
    "import matplotlib.pyplot as plt\n",
    "import numpy as np\n",
    "import os\n",
    "\n",
    "print(\"OpenCV version:\", cv2.__version__)"
   ]
  },
  {
   "cell_type": "markdown",
   "id": "27e27db0",
   "metadata": {},
   "source": [
    "## 1️⃣ Load and Display an Image"
   ]
  },
  {
   "cell_type": "code",
   "execution_count": null,
   "id": "30377900",
   "metadata": {},
   "outputs": [],
   "source": [
    "# Load an image (replace with your own path)\n",
    "img_path = 'sample.jpg'\n",
    "assert os.path.exists(img_path), f\"Image not found: {img_path}\"\n",
    "\n",
    "img = cv2.imread(img_path)\n",
    "img_rgb = cv2.cvtColor(img, cv2.COLOR_BGR2RGB)\n",
    "\n",
    "# Show\n",
    "plt.imshow(img_rgb)\n",
    "plt.title(\"Original Image\")\n",
    "plt.axis('off')\n",
    "plt.show()"
   ]
  },
  {
   "cell_type": "markdown",
   "id": "9f050f21",
   "metadata": {},
   "source": [
    "## 2️⃣ Grayscale, Gaussian Blur, and Edge Detection"
   ]
  },
  {
   "cell_type": "code",
   "execution_count": null,
   "id": "ff872dc1",
   "metadata": {},
   "outputs": [],
   "source": [
    "# Convert to grayscale\n",
    "gray = cv2.cvtColor(img, cv2.COLOR_BGR2GRAY)\n",
    "\n",
    "# Apply Gaussian Blur\n",
    "blurred = cv2.GaussianBlur(gray, (5, 5), 0)\n",
    "\n",
    "# Edge detection\n",
    "edges = cv2.Canny(blurred, 50, 150)\n",
    "\n",
    "# Show\n",
    "plt.figure(figsize=(12, 4))\n",
    "plt.subplot(1, 3, 1)\n",
    "plt.imshow(gray, cmap='gray')\n",
    "plt.title(\"Grayscale\")\n",
    "plt.axis('off')\n",
    "\n",
    "plt.subplot(1, 3, 2)\n",
    "plt.imshow(blurred, cmap='gray')\n",
    "plt.title(\"Blurred\")\n",
    "plt.axis('off')\n",
    "\n",
    "plt.subplot(1, 3, 3)\n",
    "plt.imshow(edges, cmap='gray')\n",
    "plt.title(\"Edges\")\n",
    "plt.axis('off')\n",
    "plt.show()"
   ]
  },
  {
   "cell_type": "markdown",
   "id": "aa0bb4fc",
   "metadata": {},
   "source": [
    "## ⚡ 3️⃣ (Optional) Use GPU with OpenCV + CUDA\n",
    "\n",
    "Only works if OpenCV was built with CUDA support."
   ]
  },
  {
   "cell_type": "code",
   "execution_count": null,
   "id": "383285ea",
   "metadata": {},
   "outputs": [],
   "source": [
    "# Uncomment if you built OpenCV with CUDA\n",
    "# try:\n",
    "#     gpu_mat = cv2.cuda_GpuMat()\n",
    "#     gpu_mat.upload(gray)\n",
    "#     blurred_gpu = cv2.cuda.createGaussianFilter(cv2.CV_8UC1, cv2.CV_8UC1, (5,5), 0).apply(gpu_mat)\n",
    "#     edges_gpu = cv2.cuda.createCannyEdgeDetector(50, 150).detect(blurred_gpu)\n",
    "#     result = edges_gpu.download()\n",
    "#     plt.imshow(result, cmap='gray')\n",
    "#     plt.title(\"CUDA Edge Detection\")\n",
    "#     plt.axis('off')\n",
    "#     plt.show()\n",
    "# except Exception as e:\n",
    "#     print(\"CUDA not available or not built with OpenCV:\", e)"
   ]
  },
  {
   "cell_type": "markdown",
   "id": "1f571d44",
   "metadata": {},
   "source": [
    "## 🧪 4️⃣ Wrap Everything into a Function"
   ]
  },
  {
   "cell_type": "code",
   "execution_count": null,
   "id": "c4c262aa",
   "metadata": {},
   "outputs": [],
   "source": [
    "def full_process(img_path):\n",
    "    img = cv2.imread(img_path)\n",
    "    img_rgb = cv2.cvtColor(img, cv2.COLOR_BGR2RGB)\n",
    "    gray = cv2.cvtColor(img, cv2.COLOR_BGR2GRAY)\n",
    "    blurred = cv2.GaussianBlur(gray, (5, 5), 0)\n",
    "    edges = cv2.Canny(blurred, 50, 150)\n",
    "\n",
    "    plt.figure(figsize=(14, 5))\n",
    "    plt.subplot(1, 4, 1)\n",
    "    plt.imshow(img_rgb)\n",
    "    plt.title(\"Original\")\n",
    "    plt.axis('off')\n",
    "\n",
    "    plt.subplot(1, 4, 2)\n",
    "    plt.imshow(gray, cmap='gray')\n",
    "    plt.title(\"Grayscale\")\n",
    "    plt.axis('off')\n",
    "\n",
    "    plt.subplot(1, 4, 3)\n",
    "    plt.imshow(blurred, cmap='gray')\n",
    "    plt.title(\"Blurred\")\n",
    "    plt.axis('off')\n",
    "\n",
    "    plt.subplot(1, 4, 4)\n",
    "    plt.imshow(edges, cmap='gray')\n",
    "    plt.title(\"Edges\")\n",
    "    plt.axis('off')\n",
    "    plt.show()\n",
    "\n",
    "# Try it:\n",
    "# full_process('sample.jpg')"
   ]
  }
 ],
 "metadata": {
  "kernelspec": {
   "display_name": "Python 3",
   "language": "python",
   "name": "python3"
  },
  "language_info": {
   "name": "python",
   "version": "3.10"
  }
 },
 "nbformat": 4,
 "nbformat_minor": 5
}
